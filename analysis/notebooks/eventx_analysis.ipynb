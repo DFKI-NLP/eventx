{
 "cells": [
  {
   "cell_type": "code",
   "execution_count": 1,
   "metadata": {},
   "outputs": [],
   "source": [
    "%matplotlib inline"
   ]
  },
  {
   "cell_type": "code",
   "execution_count": 2,
   "metadata": {},
   "outputs": [],
   "source": [
    "import sys\n",
    "sys.path.append(\"../../\")"
   ]
  },
  {
   "cell_type": "code",
   "execution_count": 3,
   "metadata": {},
   "outputs": [],
   "source": [
    "import eventx\n",
    "import json\n",
    "import pandas as pd\n",
    "import matplotlib.pyplot as plt\n",
    "import numpy as np\n",
    "import sklearn\n",
    "import seaborn as sns\n",
    "import io\n",
    "\n",
    "from pathlib import Path\n",
    "from itertools import chain, accumulate\n",
    "\n",
    "from eventx.predictors.predictor_utils import load_predictor\n",
    "from eventx.models.model_utils import batched_predict_json\n",
    "from eventx.predictors import snorkel_predictor, smartdata_predictor\n",
    "from eventx.util import scorer\n",
    "from eventx.util import utils\n",
    "from eventx.util import evaluate\n",
    "from eventx import SD4M_RELATION_TYPES, ROLE_LABELS\n",
    "\n",
    "from allennlp.predictors import Predictor"
   ]
  },
  {
   "cell_type": "code",
   "execution_count": 4,
   "metadata": {},
   "outputs": [],
   "source": [
    "from typing import List"
   ]
  },
  {
   "cell_type": "code",
   "execution_count": 5,
   "metadata": {},
   "outputs": [],
   "source": [
    "CUDA_DEVICE = -1  # or -1 if no GPU is available"
   ]
  },
  {
   "cell_type": "code",
   "execution_count": 6,
   "metadata": {},
   "outputs": [],
   "source": [
    "# Change paths\n",
    "DATASET_PATH = \"../../data/daystream_corpus/test/test_sd4m_with_events.jsonl\"\n",
    "PREDICTOR_NAME = \"snorkel-eventx-predictor\"\n",
    "# PREDICTOR_NAME = \"smartdata-eventx-predictor\""
   ]
  },
  {
   "cell_type": "markdown",
   "metadata": {},
   "source": [
    "## Load the test data, models and do predictions\n",
    "\n",
    "Filter documents that do not contain any entity of type trigger as they are not relevant for the event extraction task."
   ]
  },
  {
   "cell_type": "code",
   "execution_count": 7,
   "metadata": {},
   "outputs": [],
   "source": [
    "test_docs = evaluate.load_test_data(DATASET_PATH)"
   ]
  },
  {
   "cell_type": "code",
   "execution_count": 8,
   "metadata": {},
   "outputs": [],
   "source": [
    "model_base_path = Path(\"../../data/runs/\")\n",
    "model_names = [\n",
    "    \"snorkel_bert_gold\",\n",
    "    \"snorkel_bert_daystream\",\n",
    "    \"snorkel_bert_merged\"\n",
    "]"
   ]
  },
  {
   "cell_type": "code",
   "execution_count": 9,
   "metadata": {},
   "outputs": [],
   "source": [
    "predicted_docs = {}\n",
    "for model_name in model_names:\n",
    "    predictor = load_predictor(model_base_path.joinpath(model_name), PREDICTOR_NAME, CUDA_DEVICE)\n",
    "    predicted_docs[model_name] = batched_predict_json(predictor=predictor, examples=test_docs)"
   ]
  },
  {
   "cell_type": "markdown",
   "metadata": {},
   "source": [
    "## Conventional evaluation using sklearn toolkit\n",
    "We simply consider the trigger & role label sequences disregarding the correctness of the corresponding trigger label when evaluating the argument roles to use the sklearn toolkit."
   ]
  },
  {
   "cell_type": "code",
   "execution_count": 10,
   "metadata": {},
   "outputs": [],
   "source": [
    "trigger_y_pred, arg_y_pred = {}, {}\n",
    "for model_name in model_names:\n",
    "    label_arrays = evaluate.get_label_arrays(test_docs, predicted_docs[model_name])\n",
    "    trigger_y_true, trigger_y_pred[model_name] = label_arrays[\"trigger_y_true\"], label_arrays[\"trigger_y_pred\"]\n",
    "    arg_y_true, arg_y_pred[model_name] = label_arrays[\"arg_y_true\"], label_arrays[\"arg_y_pred\"]"
   ]
  },
  {
   "cell_type": "markdown",
   "metadata": {},
   "source": [
    "### Trigger classification"
   ]
  },
  {
   "cell_type": "markdown",
   "metadata": {},
   "source": [
    "#### Model trained with SD4M gold training data"
   ]
  },
  {
   "cell_type": "code",
   "execution_count": 11,
   "metadata": {},
   "outputs": [
    {
     "name": "stdout",
     "output_type": "stream",
     "text": [
      "                        precision    recall  f1-score   support\n",
      "\n",
      "              Accident       0.75      0.67      0.71         9\n",
      "         CanceledRoute       1.00      0.80      0.89        10\n",
      "          CanceledStop       1.00      1.00      1.00         3\n",
      "                 Delay       1.00      1.00      1.00         2\n",
      "           Obstruction       0.92      1.00      0.96        12\n",
      "RailReplacementService       1.00      0.80      0.89         5\n",
      "            TrafficJam       0.88      0.88      0.88        16\n",
      "\n",
      "             micro avg       0.91      0.86      0.88        57\n",
      "             macro avg       0.94      0.88      0.90        57\n",
      "          weighted avg       0.91      0.86      0.88        57\n",
      "\n"
     ]
    }
   ],
   "source": [
    "print(sklearn.metrics.classification_report(trigger_y_true, trigger_y_pred[\"snorkel_bert_gold\"], SD4M_RELATION_TYPES[:-1]))"
   ]
  },
  {
   "cell_type": "code",
   "execution_count": 12,
   "metadata": {},
   "outputs": [
    {
     "name": "stdout",
     "output_type": "stream",
     "text": [
      "                        precision    recall  f1-score   support\n",
      "\n",
      "              Accident       0.89      0.89      0.89         9\n",
      "         CanceledRoute       1.00      0.70      0.82        10\n",
      "          CanceledStop       1.00      1.00      1.00         3\n",
      "                 Delay       1.00      1.00      1.00         2\n",
      "           Obstruction       0.85      0.92      0.88        12\n",
      "RailReplacementService       1.00      0.60      0.75         5\n",
      "            TrafficJam       0.87      0.81      0.84        16\n",
      "\n",
      "             micro avg       0.90      0.82      0.86        57\n",
      "             macro avg       0.94      0.85      0.88        57\n",
      "          weighted avg       0.91      0.82      0.86        57\n",
      "\n"
     ]
    }
   ],
   "source": [
    "print(sklearn.metrics.classification_report(trigger_y_true, trigger_y_pred[\"snorkel_bert_daystream\"], SD4M_RELATION_TYPES[:-1]))"
   ]
  },
  {
   "cell_type": "code",
   "execution_count": 13,
   "metadata": {},
   "outputs": [
    {
     "name": "stdout",
     "output_type": "stream",
     "text": [
      "                        precision    recall  f1-score   support\n",
      "\n",
      "              Accident       0.80      0.89      0.84         9\n",
      "         CanceledRoute       1.00      0.80      0.89        10\n",
      "          CanceledStop       1.00      1.00      1.00         3\n",
      "                 Delay       1.00      1.00      1.00         2\n",
      "           Obstruction       0.80      1.00      0.89        12\n",
      "RailReplacementService       1.00      0.80      0.89         5\n",
      "            TrafficJam       0.88      0.88      0.88        16\n",
      "\n",
      "             micro avg       0.88      0.89      0.89        57\n",
      "             macro avg       0.92      0.91      0.91        57\n",
      "          weighted avg       0.89      0.89      0.89        57\n",
      "\n"
     ]
    }
   ],
   "source": [
    "print(sklearn.metrics.classification_report(trigger_y_true, trigger_y_pred[\"snorkel_bert_merged\"], SD4M_RELATION_TYPES[:-1]))"
   ]
  },
  {
   "cell_type": "code",
   "execution_count": 14,
   "metadata": {},
   "outputs": [
    {
     "data": {
      "image/png": "[encoded data removed]",
      "text/plain": [
       "<Figure size 2160x504 with 6 Axes>"
      ]
     },
     "metadata": {
      "needs_background": "light"
     },
     "output_type": "display_data"
    }
   ],
   "source": [
    "f, axes = plt.subplots(1, 3, figsize=(30,7))\n",
    "f.suptitle('Normalized Confusion Matrices - Trigger classification')\n",
    "for i, model_name in enumerate(model_names):\n",
    "    \n",
    "    cm = sklearn.metrics.confusion_matrix(trigger_y_true, trigger_y_pred[model_name], labels=SD4M_RELATION_TYPES)\n",
    "    cm = cm.astype('float') / cm.sum(axis=1)[:, np.newaxis]\n",
    "    df_cm = pd.DataFrame(cm, index = SD4M_RELATION_TYPES, columns = SD4M_RELATION_TYPES)\n",
    "    sns.heatmap(df_cm, ax=axes[i], annot=True)\n",
    "    axes[i].set_title(model_name)"
   ]
  },
  {
   "cell_type": "markdown",
   "metadata": {},
   "source": [
    "### Argument role classification"
   ]
  },
  {
   "cell_type": "code",
   "execution_count": 15,
   "metadata": {},
   "outputs": [
    {
     "name": "stdout",
     "output_type": "stream",
     "text": [
      "              precision    recall  f1-score   support\n",
      "\n",
      "    location       0.83      0.63      0.72        84\n",
      "       delay       1.00      0.88      0.93         8\n",
      "   direction       0.88      0.68      0.76        31\n",
      "   start_loc       0.82      0.79      0.81        39\n",
      "     end_loc       0.69      0.82      0.75        38\n",
      "  start_date       1.00      0.22      0.36         9\n",
      "    end_date       0.50      0.50      0.50         2\n",
      "       cause       0.71      0.80      0.75        15\n",
      "  jam_length       1.00      1.00      1.00        13\n",
      "       route       0.75      1.00      0.86         3\n",
      "\n",
      "   micro avg       0.81      0.72      0.76       242\n",
      "   macro avg       0.82      0.73      0.74       242\n",
      "weighted avg       0.82      0.72      0.75       242\n",
      "\n"
     ]
    }
   ],
   "source": [
    "print(sklearn.metrics.classification_report(arg_y_true, arg_y_pred[\"snorkel_bert_gold\"], ROLE_LABELS[:-1]))"
   ]
  },
  {
   "cell_type": "code",
   "execution_count": 16,
   "metadata": {},
   "outputs": [
    {
     "name": "stdout",
     "output_type": "stream",
     "text": [
      "              precision    recall  f1-score   support\n",
      "\n",
      "    location       0.80      0.48      0.60        84\n",
      "       delay       0.00      0.00      0.00         8\n",
      "   direction       0.83      0.77      0.80        31\n",
      "   start_loc       0.80      0.82      0.81        39\n",
      "     end_loc       0.88      0.74      0.80        38\n",
      "  start_date       0.70      0.78      0.74         9\n",
      "    end_date       1.00      1.00      1.00         2\n",
      "       cause       1.00      0.73      0.85        15\n",
      "  jam_length       0.93      1.00      0.96        13\n",
      "       route       1.00      0.33      0.50         3\n",
      "\n",
      "   micro avg       0.84      0.65      0.73       242\n",
      "   macro avg       0.79      0.67      0.71       242\n",
      "weighted avg       0.81      0.65      0.71       242\n",
      "\n"
     ]
    },
    {
     "name": "stderr",
     "output_type": "stream",
     "text": [
      "/Users/phuc/opt/miniconda3/envs/eventx/lib/python3.6/site-packages/sklearn/metrics/classification.py:1437: UndefinedMetricWarning: Precision and F-score are ill-defined and being set to 0.0 in labels with no predicted samples.\n",
      "  'precision', 'predicted', average, warn_for)\n"
     ]
    }
   ],
   "source": [
    "print(sklearn.metrics.classification_report(arg_y_true, arg_y_pred[\"snorkel_bert_daystream\"], ROLE_LABELS[:-1]))"
   ]
  },
  {
   "cell_type": "code",
   "execution_count": 17,
   "metadata": {},
   "outputs": [
    {
     "name": "stdout",
     "output_type": "stream",
     "text": [
      "              precision    recall  f1-score   support\n",
      "\n",
      "    location       0.85      0.68      0.75        84\n",
      "       delay       0.89      1.00      0.94         8\n",
      "   direction       0.88      0.74      0.81        31\n",
      "   start_loc       0.79      0.87      0.83        39\n",
      "     end_loc       0.76      0.84      0.80        38\n",
      "  start_date       1.00      0.33      0.50         9\n",
      "    end_date       1.00      0.50      0.67         2\n",
      "       cause       0.67      0.80      0.73        15\n",
      "  jam_length       0.93      1.00      0.96        13\n",
      "       route       0.75      1.00      0.86         3\n",
      "\n",
      "   micro avg       0.82      0.77      0.79       242\n",
      "   macro avg       0.85      0.78      0.78       242\n",
      "weighted avg       0.83      0.77      0.79       242\n",
      "\n"
     ]
    }
   ],
   "source": [
    "print(sklearn.metrics.classification_report(arg_y_true, arg_y_pred[\"snorkel_bert_merged\"], ROLE_LABELS[:-1]))"
   ]
  },
  {
   "cell_type": "code",
   "execution_count": 18,
   "metadata": {},
   "outputs": [
    {
     "data": {
      "image/png": "[encoded data removed]",
      "text/plain": [
       "<Figure size 2160x504 with 6 Axes>"
      ]
     },
     "metadata": {
      "needs_background": "light"
     },
     "output_type": "display_data"
    }
   ],
   "source": [
    "f, axes = plt.subplots(1, 3, figsize=(30,7))\n",
    "f.suptitle('Normalized Confusion Matrices - Argument classification')\n",
    "for i, model_name in enumerate(model_names):\n",
    "    \n",
    "    cm = sklearn.metrics.confusion_matrix(arg_y_true, arg_y_pred[model_name], labels=ROLE_LABELS)\n",
    "    cm = cm.astype('float') / cm.sum(axis=1)[:, np.newaxis]\n",
    "    df_cm = pd.DataFrame(cm, index=ROLE_LABELS, columns=ROLE_LABELS)\n",
    "    sns.heatmap(df_cm, ax=axes[i], annot=True)\n",
    "    axes[i].set_title(model_name)"
   ]
  },
  {
   "cell_type": "markdown",
   "metadata": {},
   "source": [
    "## Event extraction evaluation using correctness criteria defined by Ji, Heng and Grishman, Ralph 2008\n",
    "\n",
    "Ji, Heng and Grishman, Ralph (2008). Refining event extraction through cross-document inference.\n",
    "> - A trigger is correctly labeled if its event type and offsets match a reference trigger.\n",
    "> - An argument is correctly identified if its event type and offsets match any of the reference argument mentions.\n",
    "> - An argument is correctly identified and classified if its event type, offsets, and role match any of the reference argument mentions.\n",
    "\n",
    "The main difference to the previous evaluation method lies in the correctness criteria for the arguments. Here we additionally consider the correctness of the event type for the argument.\n",
    "\n",
    "Caution:\n",
    "Using the following methods to retrieve the triggers and arguments from the gold data might result in duplicate gold triggers & arguments.\n",
    "This is due to different events possibly sharing the same trigger.\n",
    "The model is not able to distinguish such events and instead fuses them all together, which results in lower recall.\n",
    "If we remove duplicates from the gold triggers and gold arguments, recall and consequently f1 should be higher."
   ]
  },
  {
   "cell_type": "code",
   "execution_count": 19,
   "metadata": {},
   "outputs": [],
   "source": [
    "REMOVE_DUPLICATES = True  # change to False if you want to keep duplicate triggers/ arguments from the gold data caused by events sharing the same trigger"
   ]
  },
  {
   "cell_type": "code",
   "execution_count": 20,
   "metadata": {},
   "outputs": [],
   "source": [
    "gold_triggers = scorer.get_triggers(test_docs)\n",
    "gold_arguments = scorer.get_arguments(test_docs)"
   ]
  },
  {
   "cell_type": "code",
   "execution_count": 21,
   "metadata": {},
   "outputs": [],
   "source": [
    "if REMOVE_DUPLICATES:\n",
    "    gold_triggers = list(set(gold_triggers))\n",
    "    gold_arguments = list(set(gold_arguments))"
   ]
  },
  {
   "cell_type": "code",
   "execution_count": 22,
   "metadata": {},
   "outputs": [],
   "source": [
    "pred_triggers = {}\n",
    "pred_arguments = {}\n",
    "for model_name in model_names:\n",
    "    pred_triggers[model_name] = scorer.get_triggers(predicted_docs[model_name])\n",
    "    pred_arguments[model_name] = scorer.get_arguments(predicted_docs[model_name])"
   ]
  },
  {
   "cell_type": "code",
   "execution_count": 23,
   "metadata": {},
   "outputs": [
    {
     "name": "stdout",
     "output_type": "stream",
     "text": [
      "snorkel_bert_gold\n",
      "--------------------------------------------------------------------------------\n",
      "                               precision    recall  f1-score   support\n",
      "--------------------------------------------------------------------------------\n",
      "Trigger identification              0.91      0.86      0.88        57\n",
      "\n",
      "\n",
      "snorkel_bert_daystream\n",
      "--------------------------------------------------------------------------------\n",
      "                               precision    recall  f1-score   support\n",
      "--------------------------------------------------------------------------------\n",
      "Trigger identification              0.96      0.88      0.92        57\n",
      "\n",
      "\n",
      "snorkel_bert_merged\n",
      "--------------------------------------------------------------------------------\n",
      "                               precision    recall  f1-score   support\n",
      "--------------------------------------------------------------------------------\n",
      "Trigger identification              0.91      0.93      0.92        57\n",
      "\n",
      "\n"
     ]
    }
   ],
   "source": [
    "for model_name in model_names:\n",
    "    print(model_name)\n",
    "    trigger_id_metrics = scorer.get_trigger_identification_metrics(gold_triggers, pred_triggers[model_name], output_string=True)\n",
    "    print('\\n')"
   ]
  },
  {
   "cell_type": "code",
   "execution_count": 24,
   "metadata": {},
   "outputs": [
    {
     "name": "stdout",
     "output_type": "stream",
     "text": [
      "snorkel_bert_gold\n",
      "--------------------------------------------------------------------------------\n",
      "                               precision    recall  f1-score   support\n",
      "--------------------------------------------------------------------------------\n",
      "Trigger classification              0.91      0.86      0.88        57\n",
      "Accident                            0.75      0.67      0.71         9\n",
      "CanceledRoute                       1.00      0.80      0.89        10\n",
      "CanceledStop                        1.00      1.00      1.00         3\n",
      "Delay                               1.00      1.00      1.00         2\n",
      "Obstruction                         0.92      1.00      0.96        12\n",
      "RailReplacementService              1.00      0.80      0.89         5\n",
      "TrafficJam                          0.88      0.88      0.88        16\n",
      "\n",
      "\n",
      "snorkel_bert_daystream\n",
      "--------------------------------------------------------------------------------\n",
      "                               precision    recall  f1-score   support\n",
      "--------------------------------------------------------------------------------\n",
      "Trigger classification              0.90      0.82      0.86        57\n",
      "Accident                            0.89      0.89      0.89         9\n",
      "CanceledRoute                       1.00      0.70      0.82        10\n",
      "CanceledStop                        1.00      1.00      1.00         3\n",
      "Delay                               1.00      1.00      1.00         2\n",
      "Obstruction                         0.85      0.92      0.88        12\n",
      "RailReplacementService              1.00      0.60      0.75         5\n",
      "TrafficJam                          0.87      0.81      0.84        16\n",
      "\n",
      "\n",
      "snorkel_bert_merged\n",
      "--------------------------------------------------------------------------------\n",
      "                               precision    recall  f1-score   support\n",
      "--------------------------------------------------------------------------------\n",
      "Trigger classification              0.88      0.89      0.89        57\n",
      "Accident                            0.80      0.89      0.84         9\n",
      "CanceledRoute                       1.00      0.80      0.89        10\n",
      "CanceledStop                        1.00      1.00      1.00         3\n",
      "Delay                               1.00      1.00      1.00         2\n",
      "Obstruction                         0.80      1.00      0.89        12\n",
      "RailReplacementService              1.00      0.80      0.89         5\n",
      "TrafficJam                          0.88      0.88      0.88        16\n",
      "\n",
      "\n"
     ]
    }
   ],
   "source": [
    "for model_name in model_names:\n",
    "    print(model_name)\n",
    "    trigger_class_metrics = scorer.get_trigger_classification_metrics(gold_triggers, pred_triggers[model_name], output_string=True)\n",
    "    print('\\n')"
   ]
  },
  {
   "cell_type": "code",
   "execution_count": 25,
   "metadata": {},
   "outputs": [
    {
     "name": "stdout",
     "output_type": "stream",
     "text": [
      "snorkel_bert_gold\n",
      "--------------------------------------------------------------------------------\n",
      "                               precision    recall  f1-score   support\n",
      "--------------------------------------------------------------------------------\n",
      "Argument identification             0.83      0.74      0.78       244\n",
      "\n",
      "\n",
      "snorkel_bert_daystream\n",
      "--------------------------------------------------------------------------------\n",
      "                               precision    recall  f1-score   support\n",
      "--------------------------------------------------------------------------------\n",
      "Argument identification             0.83      0.64      0.72       244\n",
      "\n",
      "\n",
      "snorkel_bert_merged\n",
      "--------------------------------------------------------------------------------\n",
      "                               precision    recall  f1-score   support\n",
      "--------------------------------------------------------------------------------\n",
      "Argument identification             0.82      0.77      0.79       244\n",
      "\n",
      "\n"
     ]
    }
   ],
   "source": [
    "for model_name in model_names:\n",
    "    print(model_name)\n",
    "    argument_id_metrics = scorer.get_argument_identification_metrics(gold_arguments, pred_arguments[model_name], output_string=True)\n",
    "    print('\\n')"
   ]
  },
  {
   "cell_type": "code",
   "execution_count": 26,
   "metadata": {},
   "outputs": [
    {
     "name": "stdout",
     "output_type": "stream",
     "text": [
      "snorkel_bert_gold\n",
      "--------------------------------------------------------------------------------\n",
      "                               precision    recall  f1-score   support\n",
      "--------------------------------------------------------------------------------\n",
      "Argument classification             0.81      0.71      0.76       244\n",
      "location                            0.83      0.63      0.72        84\n",
      "delay                               1.00      0.88      0.93         8\n",
      "direction                           0.88      0.68      0.76        31\n",
      "start_loc                           0.82      0.79      0.81        39\n",
      "end_loc                             0.69      0.79      0.74        39\n",
      "start_date                          1.00      0.22      0.36         9\n",
      "end_date                            0.50      0.33      0.40         3\n",
      "cause                               0.71      0.80      0.75        15\n",
      "jam_length                          1.00      1.00      1.00        13\n",
      "route                               0.75      1.00      0.86         3\n",
      "\n",
      "\n",
      "snorkel_bert_daystream\n",
      "--------------------------------------------------------------------------------\n",
      "                               precision    recall  f1-score   support\n",
      "--------------------------------------------------------------------------------\n",
      "Argument classification             0.80      0.62      0.70       244\n",
      "location                            0.78      0.46      0.58        84\n",
      "delay                               0.00      0.00      0.00         8\n",
      "direction                           0.83      0.77      0.80        31\n",
      "start_loc                           0.75      0.77      0.76        39\n",
      "end_loc                             0.81      0.67      0.73        39\n",
      "start_date                          0.50      0.56      0.53         9\n",
      "end_date                            1.00      0.67      0.80         3\n",
      "cause                               1.00      0.73      0.85        15\n",
      "jam_length                          0.93      1.00      0.96        13\n",
      "route                               1.00      0.33      0.50         3\n",
      "\n",
      "\n",
      "snorkel_bert_merged\n",
      "--------------------------------------------------------------------------------\n",
      "                               precision    recall  f1-score   support\n",
      "--------------------------------------------------------------------------------\n",
      "Argument classification             0.81      0.75      0.78       244\n",
      "location                            0.84      0.67      0.74        84\n",
      "delay                               0.89      1.00      0.94         8\n",
      "direction                           0.88      0.74      0.81        31\n",
      "start_loc                           0.77      0.85      0.80        39\n",
      "end_loc                             0.74      0.79      0.77        39\n",
      "start_date                          1.00      0.33      0.50         9\n",
      "end_date                            1.00      0.33      0.50         3\n",
      "cause                               0.67      0.80      0.73        15\n",
      "jam_length                          0.93      1.00      0.96        13\n",
      "route                               0.75      1.00      0.86         3\n",
      "\n",
      "\n"
     ]
    }
   ],
   "source": [
    "for model_name in model_names:\n",
    "    print(model_name)\n",
    "    argument_class_metrics = scorer.get_argument_classification_metrics(gold_arguments, pred_arguments[model_name], output_string=True)\n",
    "    print('\\n')"
   ]
  },
  {
   "cell_type": "markdown",
   "metadata": {},
   "source": [
    "### 5 Random Repeats\n",
    "5 random repeats for each configuration with random seeds for the snorkel label models and eventx model.\n",
    "Metrics are given as median & standard deviation."
   ]
  },
  {
   "cell_type": "code",
   "execution_count": 27,
   "metadata": {},
   "outputs": [
    {
     "name": "stdout",
     "output_type": "stream",
     "text": [
      "snorkel_bert_gold\n"
     ]
    },
    {
     "data": {
      "text/html": [
       "<div>\n",
       "<style scoped>\n",
       "    .dataframe tbody tr th:only-of-type {\n",
       "        vertical-align: middle;\n",
       "    }\n",
       "\n",
       "    .dataframe tbody tr th {\n",
       "        vertical-align: top;\n",
       "    }\n",
       "\n",
       "    .dataframe thead th {\n",
       "        text-align: right;\n",
       "    }\n",
       "</style>\n",
       "<table border=\"1\" class=\"dataframe\">\n",
       "  <thead>\n",
       "    <tr style=\"text-align: right;\">\n",
       "      <th></th>\n",
       "      <th>precision</th>\n",
       "      <th>recall</th>\n",
       "      <th>f1-score</th>\n",
       "      <th>support</th>\n",
       "    </tr>\n",
       "    <tr>\n",
       "      <th>row_name</th>\n",
       "      <th></th>\n",
       "      <th></th>\n",
       "      <th></th>\n",
       "      <th></th>\n",
       "    </tr>\n",
       "  </thead>\n",
       "  <tbody>\n",
       "    <tr>\n",
       "      <th>Trigger identification</th>\n",
       "      <td>92.5+/- 0.7</td>\n",
       "      <td>89.5+/- 1.4</td>\n",
       "      <td>90.3+/- 0.6</td>\n",
       "      <td>57</td>\n",
       "    </tr>\n",
       "    <tr>\n",
       "      <th>Trigger classification</th>\n",
       "      <td>90.9+/- 1.7</td>\n",
       "      <td>87.7+/- 1.8</td>\n",
       "      <td>89.3+/- 1.5</td>\n",
       "      <td>57</td>\n",
       "    </tr>\n",
       "    <tr>\n",
       "      <th>Argument identification</th>\n",
       "      <td>81.6+/- 1.8</td>\n",
       "      <td>76.6+/- 3.4</td>\n",
       "      <td>78.1+/- 1.8</td>\n",
       "      <td>244</td>\n",
       "    </tr>\n",
       "    <tr>\n",
       "      <th>Argument classification</th>\n",
       "      <td>79.1+/- 1.8</td>\n",
       "      <td>74.2+/- 3.2</td>\n",
       "      <td>75.6+/- 1.8</td>\n",
       "      <td>244</td>\n",
       "    </tr>\n",
       "  </tbody>\n",
       "</table>\n",
       "</div>"
      ],
      "text/plain": [
       "                           precision       recall     f1-score  support\n",
       "row_name                                                               \n",
       "Trigger identification   92.5+/- 0.7  89.5+/- 1.4  90.3+/- 0.6       57\n",
       "Trigger classification   90.9+/- 1.7  87.7+/- 1.8  89.3+/- 1.5       57\n",
       "Argument identification  81.6+/- 1.8  76.6+/- 3.4  78.1+/- 1.8      244\n",
       "Argument classification  79.1+/- 1.8  74.2+/- 3.2  75.6+/- 1.8      244"
      ]
     },
     "metadata": {},
     "output_type": "display_data"
    },
    {
     "name": "stdout",
     "output_type": "stream",
     "text": [
      "\n",
      "\n",
      "snorkel_bert_daystream\n"
     ]
    },
    {
     "data": {
      "text/html": [
       "<div>\n",
       "<style scoped>\n",
       "    .dataframe tbody tr th:only-of-type {\n",
       "        vertical-align: middle;\n",
       "    }\n",
       "\n",
       "    .dataframe tbody tr th {\n",
       "        vertical-align: top;\n",
       "    }\n",
       "\n",
       "    .dataframe thead th {\n",
       "        text-align: right;\n",
       "    }\n",
       "</style>\n",
       "<table border=\"1\" class=\"dataframe\">\n",
       "  <thead>\n",
       "    <tr style=\"text-align: right;\">\n",
       "      <th></th>\n",
       "      <th>precision</th>\n",
       "      <th>recall</th>\n",
       "      <th>f1-score</th>\n",
       "      <th>support</th>\n",
       "    </tr>\n",
       "    <tr>\n",
       "      <th>row_name</th>\n",
       "      <th></th>\n",
       "      <th></th>\n",
       "      <th></th>\n",
       "      <th></th>\n",
       "    </tr>\n",
       "  </thead>\n",
       "  <tbody>\n",
       "    <tr>\n",
       "      <th>Trigger identification</th>\n",
       "      <td>92.0+/- 2.6</td>\n",
       "      <td>82.5+/- 3.0</td>\n",
       "      <td>87.3+/- 2.3</td>\n",
       "      <td>57</td>\n",
       "    </tr>\n",
       "    <tr>\n",
       "      <th>Trigger classification</th>\n",
       "      <td>88.0+/- 2.4</td>\n",
       "      <td>78.9+/- 3.3</td>\n",
       "      <td>82.2+/- 2.5</td>\n",
       "      <td>57</td>\n",
       "    </tr>\n",
       "    <tr>\n",
       "      <th>Argument identification</th>\n",
       "      <td>84.8+/- 3.5</td>\n",
       "      <td>63.1+/- 4.6</td>\n",
       "      <td>72.3+/- 2.9</td>\n",
       "      <td>244</td>\n",
       "    </tr>\n",
       "    <tr>\n",
       "      <th>Argument classification</th>\n",
       "      <td>82.3+/- 4.9</td>\n",
       "      <td>60.7+/- 3.5</td>\n",
       "      <td>66.2+/- 2.6</td>\n",
       "      <td>244</td>\n",
       "    </tr>\n",
       "  </tbody>\n",
       "</table>\n",
       "</div>"
      ],
      "text/plain": [
       "                           precision       recall     f1-score  support\n",
       "row_name                                                               \n",
       "Trigger identification   92.0+/- 2.6  82.5+/- 3.0  87.3+/- 2.3       57\n",
       "Trigger classification   88.0+/- 2.4  78.9+/- 3.3  82.2+/- 2.5       57\n",
       "Argument identification  84.8+/- 3.5  63.1+/- 4.6  72.3+/- 2.9      244\n",
       "Argument classification  82.3+/- 4.9  60.7+/- 3.5  66.2+/- 2.6      244"
      ]
     },
     "metadata": {},
     "output_type": "display_data"
    },
    {
     "name": "stdout",
     "output_type": "stream",
     "text": [
      "\n",
      "\n",
      "snorkel_bert_merged\n"
     ]
    },
    {
     "data": {
      "text/html": [
       "<div>\n",
       "<style scoped>\n",
       "    .dataframe tbody tr th:only-of-type {\n",
       "        vertical-align: middle;\n",
       "    }\n",
       "\n",
       "    .dataframe tbody tr th {\n",
       "        vertical-align: top;\n",
       "    }\n",
       "\n",
       "    .dataframe thead th {\n",
       "        text-align: right;\n",
       "    }\n",
       "</style>\n",
       "<table border=\"1\" class=\"dataframe\">\n",
       "  <thead>\n",
       "    <tr style=\"text-align: right;\">\n",
       "      <th></th>\n",
       "      <th>precision</th>\n",
       "      <th>recall</th>\n",
       "      <th>f1-score</th>\n",
       "      <th>support</th>\n",
       "    </tr>\n",
       "    <tr>\n",
       "      <th>row_name</th>\n",
       "      <th></th>\n",
       "      <th></th>\n",
       "      <th></th>\n",
       "      <th></th>\n",
       "    </tr>\n",
       "  </thead>\n",
       "  <tbody>\n",
       "    <tr>\n",
       "      <th>Trigger identification</th>\n",
       "      <td>92.9+/- 0.7</td>\n",
       "      <td>91.2+/- 1.8</td>\n",
       "      <td>92.0+/- 1.1</td>\n",
       "      <td>57</td>\n",
       "    </tr>\n",
       "    <tr>\n",
       "      <th>Trigger classification</th>\n",
       "      <td>89.7+/- 2.3</td>\n",
       "      <td>87.7+/- 2.0</td>\n",
       "      <td>89.3+/- 2.0</td>\n",
       "      <td>57</td>\n",
       "    </tr>\n",
       "    <tr>\n",
       "      <th>Argument identification</th>\n",
       "      <td>85.8+/- 3.1</td>\n",
       "      <td>80.7+/- 2.1</td>\n",
       "      <td>83.2+/- 2.4</td>\n",
       "      <td>244</td>\n",
       "    </tr>\n",
       "    <tr>\n",
       "      <th>Argument classification</th>\n",
       "      <td>83.5+/- 3.3</td>\n",
       "      <td>78.7+/- 2.2</td>\n",
       "      <td>80.7+/- 2.5</td>\n",
       "      <td>244</td>\n",
       "    </tr>\n",
       "  </tbody>\n",
       "</table>\n",
       "</div>"
      ],
      "text/plain": [
       "                           precision       recall     f1-score  support\n",
       "row_name                                                               \n",
       "Trigger identification   92.9+/- 0.7  91.2+/- 1.8  92.0+/- 1.1       57\n",
       "Trigger classification   89.7+/- 2.3  87.7+/- 2.0  89.3+/- 2.0       57\n",
       "Argument identification  85.8+/- 3.1  80.7+/- 2.1  83.2+/- 2.4      244\n",
       "Argument classification  83.5+/- 3.3  78.7+/- 2.2  80.7+/- 2.5      244"
      ]
     },
     "metadata": {},
     "output_type": "display_data"
    },
    {
     "name": "stdout",
     "output_type": "stream",
     "text": [
      "\n",
      "\n"
     ]
    }
   ],
   "source": [
    "model_base_path = Path(\"../../data/runs/random_repeats\")\n",
    "runs = 5\n",
    "trigger_metrics_rr, argument_metrics_rr = {}, {}\n",
    "for model_name in model_names:\n",
    "    print(model_name)\n",
    "    model_paths = [model_base_path.joinpath(f'run0{run+1}/{model_name}') for run in range(runs)]\n",
    "    trigger_metrics_rr[model_name], argument_metrics_rr[model_name] = evaluate.summize_multiple_runs(model_paths, test_docs)\n",
    "    formatted_trigger = evaluate.format_classification_report(evaluate.get_median_std(trigger_metrics_rr[model_name]), make_string=True)\n",
    "    formatted_argument = evaluate.format_classification_report(evaluate.get_median_std(argument_metrics_rr[model_name]), make_string=True)\n",
    "    formatted_metrics = pd.concat([formatted_trigger, formatted_argument])\n",
    "    formatted_metrics.set_index('row_name', inplace=True)\n",
    "    display(formatted_metrics.loc[['Trigger identification', 'Trigger classification', 'Argument identification', 'Argument classification']])\n",
    "    print('\\n')"
   ]
  },
  {
   "cell_type": "markdown",
   "metadata": {},
   "source": [
    "5 random repeats for each configuration with random seeds for the eventx model. We kept used the same training data for each run, i.e. did not use random seeds for the snorkel labeling.\n",
    "Metrics are given as median & standard deviation."
   ]
  },
  {
   "cell_type": "code",
   "execution_count": 28,
   "metadata": {},
   "outputs": [
    {
     "name": "stdout",
     "output_type": "stream",
     "text": [
      "snorkel_bert_gold\n"
     ]
    },
    {
     "data": {
      "text/html": [
       "<div>\n",
       "<style scoped>\n",
       "    .dataframe tbody tr th:only-of-type {\n",
       "        vertical-align: middle;\n",
       "    }\n",
       "\n",
       "    .dataframe tbody tr th {\n",
       "        vertical-align: top;\n",
       "    }\n",
       "\n",
       "    .dataframe thead th {\n",
       "        text-align: right;\n",
       "    }\n",
       "</style>\n",
       "<table border=\"1\" class=\"dataframe\">\n",
       "  <thead>\n",
       "    <tr style=\"text-align: right;\">\n",
       "      <th></th>\n",
       "      <th>precision</th>\n",
       "      <th>recall</th>\n",
       "      <th>f1-score</th>\n",
       "      <th>support</th>\n",
       "    </tr>\n",
       "    <tr>\n",
       "      <th>row_name</th>\n",
       "      <th></th>\n",
       "      <th></th>\n",
       "      <th></th>\n",
       "      <th></th>\n",
       "    </tr>\n",
       "  </thead>\n",
       "  <tbody>\n",
       "    <tr>\n",
       "      <th>Trigger identification</th>\n",
       "      <td>92.5+/- 0.7</td>\n",
       "      <td>89.5+/- 1.4</td>\n",
       "      <td>90.3+/- 0.6</td>\n",
       "      <td>57</td>\n",
       "    </tr>\n",
       "    <tr>\n",
       "      <th>Trigger classification</th>\n",
       "      <td>90.9+/- 1.7</td>\n",
       "      <td>87.7+/- 1.8</td>\n",
       "      <td>89.3+/- 1.5</td>\n",
       "      <td>57</td>\n",
       "    </tr>\n",
       "    <tr>\n",
       "      <th>Argument identification</th>\n",
       "      <td>81.6+/- 1.8</td>\n",
       "      <td>76.6+/- 3.4</td>\n",
       "      <td>78.1+/- 1.8</td>\n",
       "      <td>244</td>\n",
       "    </tr>\n",
       "    <tr>\n",
       "      <th>Argument classification</th>\n",
       "      <td>79.1+/- 1.8</td>\n",
       "      <td>74.2+/- 3.2</td>\n",
       "      <td>75.6+/- 1.8</td>\n",
       "      <td>244</td>\n",
       "    </tr>\n",
       "  </tbody>\n",
       "</table>\n",
       "</div>"
      ],
      "text/plain": [
       "                           precision       recall     f1-score  support\n",
       "row_name                                                               \n",
       "Trigger identification   92.5+/- 0.7  89.5+/- 1.4  90.3+/- 0.6       57\n",
       "Trigger classification   90.9+/- 1.7  87.7+/- 1.8  89.3+/- 1.5       57\n",
       "Argument identification  81.6+/- 1.8  76.6+/- 3.4  78.1+/- 1.8      244\n",
       "Argument classification  79.1+/- 1.8  74.2+/- 3.2  75.6+/- 1.8      244"
      ]
     },
     "metadata": {},
     "output_type": "display_data"
    },
    {
     "name": "stdout",
     "output_type": "stream",
     "text": [
      "\n",
      "\n",
      "snorkel_bert_daystream\n"
     ]
    },
    {
     "data": {
      "text/html": [
       "<div>\n",
       "<style scoped>\n",
       "    .dataframe tbody tr th:only-of-type {\n",
       "        vertical-align: middle;\n",
       "    }\n",
       "\n",
       "    .dataframe tbody tr th {\n",
       "        vertical-align: top;\n",
       "    }\n",
       "\n",
       "    .dataframe thead th {\n",
       "        text-align: right;\n",
       "    }\n",
       "</style>\n",
       "<table border=\"1\" class=\"dataframe\">\n",
       "  <thead>\n",
       "    <tr style=\"text-align: right;\">\n",
       "      <th></th>\n",
       "      <th>precision</th>\n",
       "      <th>recall</th>\n",
       "      <th>f1-score</th>\n",
       "      <th>support</th>\n",
       "    </tr>\n",
       "    <tr>\n",
       "      <th>row_name</th>\n",
       "      <th></th>\n",
       "      <th></th>\n",
       "      <th></th>\n",
       "      <th></th>\n",
       "    </tr>\n",
       "  </thead>\n",
       "  <tbody>\n",
       "    <tr>\n",
       "      <th>Trigger identification</th>\n",
       "      <td>94.5+/- 0.9</td>\n",
       "      <td>82.5+/- 3.9</td>\n",
       "      <td>88.7+/- 2.2</td>\n",
       "      <td>57</td>\n",
       "    </tr>\n",
       "    <tr>\n",
       "      <th>Trigger classification</th>\n",
       "      <td>89.1+/- 2.3</td>\n",
       "      <td>77.2+/- 4.0</td>\n",
       "      <td>83.0+/- 2.7</td>\n",
       "      <td>57</td>\n",
       "    </tr>\n",
       "    <tr>\n",
       "      <th>Argument identification</th>\n",
       "      <td>83.2+/- 0.8</td>\n",
       "      <td>61.1+/- 2.4</td>\n",
       "      <td>70.8+/- 1.7</td>\n",
       "      <td>244</td>\n",
       "    </tr>\n",
       "    <tr>\n",
       "      <th>Argument classification</th>\n",
       "      <td>80.7+/- 1.1</td>\n",
       "      <td>59.8+/- 2.3</td>\n",
       "      <td>68.7+/- 1.7</td>\n",
       "      <td>244</td>\n",
       "    </tr>\n",
       "  </tbody>\n",
       "</table>\n",
       "</div>"
      ],
      "text/plain": [
       "                           precision       recall     f1-score  support\n",
       "row_name                                                               \n",
       "Trigger identification   94.5+/- 0.9  82.5+/- 3.9  88.7+/- 2.2       57\n",
       "Trigger classification   89.1+/- 2.3  77.2+/- 4.0  83.0+/- 2.7       57\n",
       "Argument identification  83.2+/- 0.8  61.1+/- 2.4  70.8+/- 1.7      244\n",
       "Argument classification  80.7+/- 1.1  59.8+/- 2.3  68.7+/- 1.7      244"
      ]
     },
     "metadata": {},
     "output_type": "display_data"
    },
    {
     "name": "stdout",
     "output_type": "stream",
     "text": [
      "\n",
      "\n",
      "snorkel_bert_merged\n"
     ]
    },
    {
     "data": {
      "text/html": [
       "<div>\n",
       "<style scoped>\n",
       "    .dataframe tbody tr th:only-of-type {\n",
       "        vertical-align: middle;\n",
       "    }\n",
       "\n",
       "    .dataframe tbody tr th {\n",
       "        vertical-align: top;\n",
       "    }\n",
       "\n",
       "    .dataframe thead th {\n",
       "        text-align: right;\n",
       "    }\n",
       "</style>\n",
       "<table border=\"1\" class=\"dataframe\">\n",
       "  <thead>\n",
       "    <tr style=\"text-align: right;\">\n",
       "      <th></th>\n",
       "      <th>precision</th>\n",
       "      <th>recall</th>\n",
       "      <th>f1-score</th>\n",
       "      <th>support</th>\n",
       "    </tr>\n",
       "    <tr>\n",
       "      <th>row_name</th>\n",
       "      <th></th>\n",
       "      <th></th>\n",
       "      <th></th>\n",
       "      <th></th>\n",
       "    </tr>\n",
       "  </thead>\n",
       "  <tbody>\n",
       "    <tr>\n",
       "      <th>Trigger identification</th>\n",
       "      <td>93.0+/- 1.3</td>\n",
       "      <td>91.2+/- 1.8</td>\n",
       "      <td>92.9+/- 1.3</td>\n",
       "      <td>57</td>\n",
       "    </tr>\n",
       "    <tr>\n",
       "      <th>Trigger classification</th>\n",
       "      <td>91.2+/- 1.8</td>\n",
       "      <td>91.2+/- 1.8</td>\n",
       "      <td>91.2+/- 1.6</td>\n",
       "      <td>57</td>\n",
       "    </tr>\n",
       "    <tr>\n",
       "      <th>Argument identification</th>\n",
       "      <td>86.8+/- 3.4</td>\n",
       "      <td>79.9+/- 2.9</td>\n",
       "      <td>81.9+/- 2.1</td>\n",
       "      <td>244</td>\n",
       "    </tr>\n",
       "    <tr>\n",
       "      <th>Argument classification</th>\n",
       "      <td>83.8+/- 3.5</td>\n",
       "      <td>78.3+/- 2.5</td>\n",
       "      <td>80.9+/- 1.9</td>\n",
       "      <td>244</td>\n",
       "    </tr>\n",
       "  </tbody>\n",
       "</table>\n",
       "</div>"
      ],
      "text/plain": [
       "                           precision       recall     f1-score  support\n",
       "row_name                                                               \n",
       "Trigger identification   93.0+/- 1.3  91.2+/- 1.8  92.9+/- 1.3       57\n",
       "Trigger classification   91.2+/- 1.8  91.2+/- 1.8  91.2+/- 1.6       57\n",
       "Argument identification  86.8+/- 3.4  79.9+/- 2.9  81.9+/- 2.1      244\n",
       "Argument classification  83.8+/- 3.5  78.3+/- 2.5  80.9+/- 1.9      244"
      ]
     },
     "metadata": {},
     "output_type": "display_data"
    },
    {
     "name": "stdout",
     "output_type": "stream",
     "text": [
      "\n",
      "\n"
     ]
    }
   ],
   "source": [
    "model_base_path = Path(\"../../data/runs/random_repeats_fixed_daystream\")\n",
    "runs = 5\n",
    "trigger_metrics_rrd, argument_metrics_rrd = {}, {}\n",
    "for model_name in model_names:\n",
    "    print(model_name)\n",
    "    model_paths = [model_base_path.joinpath(f'run_{run+1}/{model_name}') for run in range(runs)]\n",
    "    trigger_metrics_rrd[model_name], argument_metrics_rrd[model_name] = evaluate.summize_multiple_runs(model_paths, test_docs)\n",
    "    formatted_trigger = evaluate.format_classification_report(evaluate.get_median_std(trigger_metrics_rrd[model_name]), make_string=True)\n",
    "    formatted_argument = evaluate.format_classification_report(evaluate.get_median_std(argument_metrics_rrd[model_name]), make_string=True)\n",
    "    formatted_metrics = pd.concat([formatted_trigger, formatted_argument])\n",
    "    formatted_metrics.set_index('row_name', inplace=True)\n",
    "    display(formatted_metrics.loc[['Trigger identification', 'Trigger classification', 'Argument identification', 'Argument classification']])\n",
    "    print('\\n')"
   ]
  },
  {
   "cell_type": "markdown",
   "metadata": {},
   "source": [
    "### Scalability of snorkel labeled data\n",
    "Compare model performance with increasing amount of snorkel labeled data.\n",
    "We sample 50%, 60%, ..., 100% from the Daystream data. We do this 6 times and look at the median f1-score to reduce the chance of getting outliers (lucky samples) during the sampling process.\n",
    "We encountered OOV errors for the models that were trained with less of the training data. We omit the test scores of these models and report how many scores were used per sample size to calculate the median.\n",
    "\n",
    "Sample sizes and how many test scores:\n",
    "- 50%: sample runs 3, 4, 6\n",
    "- 60%: sample runs 1, 4-6 \n",
    "- 70%: sample runs 2-6\n",
    "- 80%: sample runs 1, 3-6\n",
    "- 90%: sample runs 1-6\n",
    "- 100%: sample runs 1-6"
   ]
  },
  {
   "cell_type": "code",
   "execution_count": 29,
   "metadata": {},
   "outputs": [
    {
     "name": "stdout",
     "output_type": "stream",
     "text": [
      "daystream50_snorkeled\n"
     ]
    },
    {
     "name": "stderr",
     "output_type": "stream",
     "text": [
      "ERROR:allennlp.data.vocabulary:Namespace: entity_tags\n",
      "ERROR:allennlp.data.vocabulary:Token: I-NUMBER\n",
      "2020-07-26 20:38:17,348 - The model ../../data/runs/increasing_train_data/samples_1/daystream50_snorkeled encountered an OOV error ('@@UNKNOWN@@'). Skip and continue.\n",
      "WARNING:eventx:The model ../../data/runs/increasing_train_data/samples_1/daystream50_snorkeled encountered an OOV error ('@@UNKNOWN@@'). Skip and continue.\n",
      "ERROR:allennlp.data.vocabulary:Namespace: entity_tags\n",
      "ERROR:allennlp.data.vocabulary:Token: I-NUMBER\n",
      "2020-07-26 20:38:21,745 - The model ../../data/runs/increasing_train_data/samples_2/daystream50_snorkeled encountered an OOV error ('@@UNKNOWN@@'). Skip and continue.\n",
      "WARNING:eventx:The model ../../data/runs/increasing_train_data/samples_2/daystream50_snorkeled encountered an OOV error ('@@UNKNOWN@@'). Skip and continue.\n",
      "ERROR:allennlp.data.vocabulary:Namespace: entity_tags\n",
      "ERROR:allennlp.data.vocabulary:Token: I-NUMBER\n",
      "2020-07-26 20:39:01,691 - The model ../../data/runs/increasing_train_data/samples_5/daystream50_snorkeled encountered an OOV error ('@@UNKNOWN@@'). Skip and continue.\n",
      "WARNING:eventx:The model ../../data/runs/increasing_train_data/samples_5/daystream50_snorkeled encountered an OOV error ('@@UNKNOWN@@'). Skip and continue.\n"
     ]
    },
    {
     "name": "stdout",
     "output_type": "stream",
     "text": [
      "daystream60_snorkeled\n"
     ]
    },
    {
     "name": "stderr",
     "output_type": "stream",
     "text": [
      "ERROR:allennlp.data.vocabulary:Namespace: entity_tags\n",
      "ERROR:allennlp.data.vocabulary:Token: I-NUMBER\n",
      "2020-07-26 20:39:41,364 - The model ../../data/runs/increasing_train_data/samples_2/daystream60_snorkeled encountered an OOV error ('@@UNKNOWN@@'). Skip and continue.\n",
      "WARNING:eventx:The model ../../data/runs/increasing_train_data/samples_2/daystream60_snorkeled encountered an OOV error ('@@UNKNOWN@@'). Skip and continue.\n",
      "ERROR:allennlp.data.vocabulary:Namespace: entity_tags\n",
      "ERROR:allennlp.data.vocabulary:Token: I-NUMBER\n",
      "2020-07-26 20:39:45,574 - The model ../../data/runs/increasing_train_data/samples_3/daystream60_snorkeled encountered an OOV error ('@@UNKNOWN@@'). Skip and continue.\n",
      "WARNING:eventx:The model ../../data/runs/increasing_train_data/samples_3/daystream60_snorkeled encountered an OOV error ('@@UNKNOWN@@'). Skip and continue.\n"
     ]
    },
    {
     "name": "stdout",
     "output_type": "stream",
     "text": [
      "daystream70_snorkeled\n"
     ]
    },
    {
     "name": "stderr",
     "output_type": "stream",
     "text": [
      "ERROR:allennlp.data.vocabulary:Namespace: entity_tags\n",
      "ERROR:allennlp.data.vocabulary:Token: I-NUMBER\n",
      "2020-07-26 20:40:43,247 - The model ../../data/runs/increasing_train_data/samples_1/daystream70_snorkeled encountered an OOV error ('@@UNKNOWN@@'). Skip and continue.\n",
      "WARNING:eventx:The model ../../data/runs/increasing_train_data/samples_1/daystream70_snorkeled encountered an OOV error ('@@UNKNOWN@@'). Skip and continue.\n"
     ]
    },
    {
     "name": "stdout",
     "output_type": "stream",
     "text": [
      "daystream80_snorkeled\n"
     ]
    },
    {
     "name": "stderr",
     "output_type": "stream",
     "text": [
      "ERROR:allennlp.data.vocabulary:Namespace: entity_tags\n",
      "ERROR:allennlp.data.vocabulary:Token: I-NUMBER\n",
      "2020-07-26 20:42:35,309 - The model ../../data/runs/increasing_train_data/samples_2/daystream80_snorkeled encountered an OOV error ('@@UNKNOWN@@'). Skip and continue.\n",
      "WARNING:eventx:The model ../../data/runs/increasing_train_data/samples_2/daystream80_snorkeled encountered an OOV error ('@@UNKNOWN@@'). Skip and continue.\n"
     ]
    },
    {
     "name": "stdout",
     "output_type": "stream",
     "text": [
      "daystream90_snorkeled\n",
      "daystream100_snorkeled\n"
     ]
    }
   ],
   "source": [
    "# increasing training data over 5 different sample runs: getting a bunch of entity_tags vocabulary key errors (removed from evaluation)\n",
    "model_names = [f'daystream{percentage}_snorkeled' for percentage in range(50,101,10)]\n",
    "model_base_path = Path(\"../../data/runs/increasing_train_data\")\n",
    "runs = 6\n",
    "trigger_metrics, argument_metrics = {}, {}\n",
    "for model_name in model_names:\n",
    "    print(model_name)\n",
    "    model_paths = [model_base_path.joinpath(f'samples_{run+1}/{model_name}') for run in range(runs)]\n",
    "    trigger_metrics[model_name], argument_metrics[model_name] = evaluate.summize_multiple_runs(model_paths, test_docs)"
   ]
  },
  {
   "cell_type": "code",
   "execution_count": 30,
   "metadata": {},
   "outputs": [],
   "source": [
    "def get_infos(metrics, metric_name, labels=None):\n",
    "    table = []\n",
    "    for idx, (k,v) in enumerate(metrics.items()):\n",
    "        if labels is None:\n",
    "            tmp = {'Model': k}\n",
    "        else:\n",
    "            tmp = {'Sample size in %': labels[idx]}\n",
    "        tmp[metric_name] = np.median(v[metric_name]['f1-score'])\n",
    "        table.append(tmp)\n",
    "    if labels is None:\n",
    "        return pd.DataFrame(table).set_index('Model')\n",
    "    else:\n",
    "        return pd.DataFrame(table).set_index('Sample size in %')"
   ]
  },
  {
   "cell_type": "code",
   "execution_count": 31,
   "metadata": {},
   "outputs": [
    {
     "data": {
      "text/plain": [
       "<matplotlib.axes._subplots.AxesSubplot at 0x7feafdbb1780>"
      ]
     },
     "execution_count": 31,
     "metadata": {},
     "output_type": "execute_result"
    },
    {
     "data": {
      "image/png": "[encoded data removed]",
      "text/plain": [
       "<Figure size 432x288 with 1 Axes>"
      ]
     },
     "metadata": {
      "needs_background": "light"
     },
     "output_type": "display_data"
    }
   ],
   "source": [
    "sample_sizes = [percentage for percentage in range(50,101,10)]\n",
    "progression_table = get_infos(trigger_metrics, 'Trigger identification', labels=sample_sizes)\n",
    "progression_table = progression_table.merge(get_infos(trigger_metrics, 'Trigger classification', labels=sample_sizes), left_index=True, right_index=True)\n",
    "progression_table = progression_table.merge(get_infos(argument_metrics, 'Argument identification', labels=sample_sizes), left_index=True, right_index=True)\n",
    "progression_table = progression_table.merge(get_infos(argument_metrics, 'Argument classification', labels=sample_sizes), left_index=True, right_index=True)\n",
    "progression_table.plot()"
   ]
  },
  {
   "cell_type": "code",
   "execution_count": 32,
   "metadata": {},
   "outputs": [
    {
     "name": "stdout",
     "output_type": "stream",
     "text": [
      "daystream50_snorkeled\n"
     ]
    },
    {
     "data": {
      "text/html": [
       "<div>\n",
       "<style scoped>\n",
       "    .dataframe tbody tr th:only-of-type {\n",
       "        vertical-align: middle;\n",
       "    }\n",
       "\n",
       "    .dataframe tbody tr th {\n",
       "        vertical-align: top;\n",
       "    }\n",
       "\n",
       "    .dataframe thead th {\n",
       "        text-align: right;\n",
       "    }\n",
       "</style>\n",
       "<table border=\"1\" class=\"dataframe\">\n",
       "  <thead>\n",
       "    <tr style=\"text-align: right;\">\n",
       "      <th></th>\n",
       "      <th>precision</th>\n",
       "      <th>recall</th>\n",
       "      <th>f1-score</th>\n",
       "      <th>support</th>\n",
       "    </tr>\n",
       "    <tr>\n",
       "      <th>row_name</th>\n",
       "      <th></th>\n",
       "      <th></th>\n",
       "      <th></th>\n",
       "      <th></th>\n",
       "    </tr>\n",
       "  </thead>\n",
       "  <tbody>\n",
       "    <tr>\n",
       "      <th>Trigger identification</th>\n",
       "      <td>90.6+/- 2.0</td>\n",
       "      <td>84.2+/- 2.2</td>\n",
       "      <td>87.9+/- 0.5</td>\n",
       "      <td>57</td>\n",
       "    </tr>\n",
       "    <tr>\n",
       "      <th>Trigger classification</th>\n",
       "      <td>85.7+/- 2.9</td>\n",
       "      <td>77.2+/- 3.8</td>\n",
       "      <td>82.2+/- 2.8</td>\n",
       "      <td>57</td>\n",
       "    </tr>\n",
       "    <tr>\n",
       "      <th>Argument identification</th>\n",
       "      <td>74.2+/- 3.3</td>\n",
       "      <td>47.5+/- 4.4</td>\n",
       "      <td>58.7+/- 3.8</td>\n",
       "      <td>244</td>\n",
       "    </tr>\n",
       "    <tr>\n",
       "      <th>Argument classification</th>\n",
       "      <td>70.2+/- 5.3</td>\n",
       "      <td>45.5+/- 5.2</td>\n",
       "      <td>56.2+/- 5.1</td>\n",
       "      <td>244</td>\n",
       "    </tr>\n",
       "  </tbody>\n",
       "</table>\n",
       "</div>"
      ],
      "text/plain": [
       "                           precision       recall     f1-score  support\n",
       "row_name                                                               \n",
       "Trigger identification   90.6+/- 2.0  84.2+/- 2.2  87.9+/- 0.5       57\n",
       "Trigger classification   85.7+/- 2.9  77.2+/- 3.8  82.2+/- 2.8       57\n",
       "Argument identification  74.2+/- 3.3  47.5+/- 4.4  58.7+/- 3.8      244\n",
       "Argument classification  70.2+/- 5.3  45.5+/- 5.2  56.2+/- 5.1      244"
      ]
     },
     "metadata": {},
     "output_type": "display_data"
    },
    {
     "name": "stdout",
     "output_type": "stream",
     "text": [
      "\n",
      "\n",
      "daystream60_snorkeled\n"
     ]
    },
    {
     "data": {
      "text/html": [
       "<div>\n",
       "<style scoped>\n",
       "    .dataframe tbody tr th:only-of-type {\n",
       "        vertical-align: middle;\n",
       "    }\n",
       "\n",
       "    .dataframe tbody tr th {\n",
       "        vertical-align: top;\n",
       "    }\n",
       "\n",
       "    .dataframe thead th {\n",
       "        text-align: right;\n",
       "    }\n",
       "</style>\n",
       "<table border=\"1\" class=\"dataframe\">\n",
       "  <thead>\n",
       "    <tr style=\"text-align: right;\">\n",
       "      <th></th>\n",
       "      <th>precision</th>\n",
       "      <th>recall</th>\n",
       "      <th>f1-score</th>\n",
       "      <th>support</th>\n",
       "    </tr>\n",
       "    <tr>\n",
       "      <th>row_name</th>\n",
       "      <th></th>\n",
       "      <th></th>\n",
       "      <th></th>\n",
       "      <th></th>\n",
       "    </tr>\n",
       "  </thead>\n",
       "  <tbody>\n",
       "    <tr>\n",
       "      <th>Trigger identification</th>\n",
       "      <td>92.7+/- 1.2</td>\n",
       "      <td>75.4+/- 4.5</td>\n",
       "      <td>83.5+/- 3.0</td>\n",
       "      <td>57</td>\n",
       "    </tr>\n",
       "    <tr>\n",
       "      <th>Trigger classification</th>\n",
       "      <td>86.6+/- 1.9</td>\n",
       "      <td>71.1+/- 4.5</td>\n",
       "      <td>78.6+/- 3.2</td>\n",
       "      <td>57</td>\n",
       "    </tr>\n",
       "    <tr>\n",
       "      <th>Argument identification</th>\n",
       "      <td>81.0+/- 3.2</td>\n",
       "      <td>51.0+/- 3.1</td>\n",
       "      <td>62.3+/- 2.5</td>\n",
       "      <td>244</td>\n",
       "    </tr>\n",
       "    <tr>\n",
       "      <th>Argument classification</th>\n",
       "      <td>77.3+/- 5.0</td>\n",
       "      <td>48.0+/- 3.5</td>\n",
       "      <td>59.5+/- 3.5</td>\n",
       "      <td>244</td>\n",
       "    </tr>\n",
       "  </tbody>\n",
       "</table>\n",
       "</div>"
      ],
      "text/plain": [
       "                           precision       recall     f1-score  support\n",
       "row_name                                                               \n",
       "Trigger identification   92.7+/- 1.2  75.4+/- 4.5  83.5+/- 3.0       57\n",
       "Trigger classification   86.6+/- 1.9  71.1+/- 4.5  78.6+/- 3.2       57\n",
       "Argument identification  81.0+/- 3.2  51.0+/- 3.1  62.3+/- 2.5      244\n",
       "Argument classification  77.3+/- 5.0  48.0+/- 3.5  59.5+/- 3.5      244"
      ]
     },
     "metadata": {},
     "output_type": "display_data"
    },
    {
     "name": "stdout",
     "output_type": "stream",
     "text": [
      "\n",
      "\n",
      "daystream70_snorkeled\n"
     ]
    },
    {
     "data": {
      "text/html": [
       "<div>\n",
       "<style scoped>\n",
       "    .dataframe tbody tr th:only-of-type {\n",
       "        vertical-align: middle;\n",
       "    }\n",
       "\n",
       "    .dataframe tbody tr th {\n",
       "        vertical-align: top;\n",
       "    }\n",
       "\n",
       "    .dataframe thead th {\n",
       "        text-align: right;\n",
       "    }\n",
       "</style>\n",
       "<table border=\"1\" class=\"dataframe\">\n",
       "  <thead>\n",
       "    <tr style=\"text-align: right;\">\n",
       "      <th></th>\n",
       "      <th>precision</th>\n",
       "      <th>recall</th>\n",
       "      <th>f1-score</th>\n",
       "      <th>support</th>\n",
       "    </tr>\n",
       "    <tr>\n",
       "      <th>row_name</th>\n",
       "      <th></th>\n",
       "      <th></th>\n",
       "      <th></th>\n",
       "      <th></th>\n",
       "    </tr>\n",
       "  </thead>\n",
       "  <tbody>\n",
       "    <tr>\n",
       "      <th>Trigger identification</th>\n",
       "      <td>90.6+/- 1.8</td>\n",
       "      <td>82.5+/- 4.0</td>\n",
       "      <td>86.5+/- 2.7</td>\n",
       "      <td>57</td>\n",
       "    </tr>\n",
       "    <tr>\n",
       "      <th>Trigger classification</th>\n",
       "      <td>84.9+/- 2.9</td>\n",
       "      <td>77.2+/- 4.6</td>\n",
       "      <td>81.1+/- 3.6</td>\n",
       "      <td>57</td>\n",
       "    </tr>\n",
       "    <tr>\n",
       "      <th>Argument identification</th>\n",
       "      <td>76.2+/- 4.6</td>\n",
       "      <td>57.4+/- 3.9</td>\n",
       "      <td>62.9+/- 3.5</td>\n",
       "      <td>244</td>\n",
       "    </tr>\n",
       "    <tr>\n",
       "      <th>Argument classification</th>\n",
       "      <td>71.4+/- 6.2</td>\n",
       "      <td>54.1+/- 5.5</td>\n",
       "      <td>59.3+/- 5.4</td>\n",
       "      <td>244</td>\n",
       "    </tr>\n",
       "  </tbody>\n",
       "</table>\n",
       "</div>"
      ],
      "text/plain": [
       "                           precision       recall     f1-score  support\n",
       "row_name                                                               \n",
       "Trigger identification   90.6+/- 1.8  82.5+/- 4.0  86.5+/- 2.7       57\n",
       "Trigger classification   84.9+/- 2.9  77.2+/- 4.6  81.1+/- 3.6       57\n",
       "Argument identification  76.2+/- 4.6  57.4+/- 3.9  62.9+/- 3.5      244\n",
       "Argument classification  71.4+/- 6.2  54.1+/- 5.5  59.3+/- 5.4      244"
      ]
     },
     "metadata": {},
     "output_type": "display_data"
    },
    {
     "name": "stdout",
     "output_type": "stream",
     "text": [
      "\n",
      "\n",
      "daystream80_snorkeled\n"
     ]
    },
    {
     "data": {
      "text/html": [
       "<div>\n",
       "<style scoped>\n",
       "    .dataframe tbody tr th:only-of-type {\n",
       "        vertical-align: middle;\n",
       "    }\n",
       "\n",
       "    .dataframe tbody tr th {\n",
       "        vertical-align: top;\n",
       "    }\n",
       "\n",
       "    .dataframe thead th {\n",
       "        text-align: right;\n",
       "    }\n",
       "</style>\n",
       "<table border=\"1\" class=\"dataframe\">\n",
       "  <thead>\n",
       "    <tr style=\"text-align: right;\">\n",
       "      <th></th>\n",
       "      <th>precision</th>\n",
       "      <th>recall</th>\n",
       "      <th>f1-score</th>\n",
       "      <th>support</th>\n",
       "    </tr>\n",
       "    <tr>\n",
       "      <th>row_name</th>\n",
       "      <th></th>\n",
       "      <th></th>\n",
       "      <th></th>\n",
       "      <th></th>\n",
       "    </tr>\n",
       "  </thead>\n",
       "  <tbody>\n",
       "    <tr>\n",
       "      <th>Trigger identification</th>\n",
       "      <td>92.2+/- 2.6</td>\n",
       "      <td>78.9+/- 5.7</td>\n",
       "      <td>85.7+/- 4.0</td>\n",
       "      <td>57</td>\n",
       "    </tr>\n",
       "    <tr>\n",
       "      <th>Trigger classification</th>\n",
       "      <td>86.3+/- 4.7</td>\n",
       "      <td>73.7+/- 6.7</td>\n",
       "      <td>80.0+/- 5.6</td>\n",
       "      <td>57</td>\n",
       "    </tr>\n",
       "    <tr>\n",
       "      <th>Argument identification</th>\n",
       "      <td>73.1+/- 4.1</td>\n",
       "      <td>57.4+/- 1.5</td>\n",
       "      <td>64.1+/- 1.4</td>\n",
       "      <td>244</td>\n",
       "    </tr>\n",
       "    <tr>\n",
       "      <th>Argument classification</th>\n",
       "      <td>69.2+/- 4.2</td>\n",
       "      <td>54.5+/- 1.2</td>\n",
       "      <td>60.9+/- 1.4</td>\n",
       "      <td>244</td>\n",
       "    </tr>\n",
       "  </tbody>\n",
       "</table>\n",
       "</div>"
      ],
      "text/plain": [
       "                           precision       recall     f1-score  support\n",
       "row_name                                                               \n",
       "Trigger identification   92.2+/- 2.6  78.9+/- 5.7  85.7+/- 4.0       57\n",
       "Trigger classification   86.3+/- 4.7  73.7+/- 6.7  80.0+/- 5.6       57\n",
       "Argument identification  73.1+/- 4.1  57.4+/- 1.5  64.1+/- 1.4      244\n",
       "Argument classification  69.2+/- 4.2  54.5+/- 1.2  60.9+/- 1.4      244"
      ]
     },
     "metadata": {},
     "output_type": "display_data"
    },
    {
     "name": "stdout",
     "output_type": "stream",
     "text": [
      "\n",
      "\n",
      "daystream90_snorkeled\n"
     ]
    },
    {
     "data": {
      "text/html": [
       "<div>\n",
       "<style scoped>\n",
       "    .dataframe tbody tr th:only-of-type {\n",
       "        vertical-align: middle;\n",
       "    }\n",
       "\n",
       "    .dataframe tbody tr th {\n",
       "        vertical-align: top;\n",
       "    }\n",
       "\n",
       "    .dataframe thead th {\n",
       "        text-align: right;\n",
       "    }\n",
       "</style>\n",
       "<table border=\"1\" class=\"dataframe\">\n",
       "  <thead>\n",
       "    <tr style=\"text-align: right;\">\n",
       "      <th></th>\n",
       "      <th>precision</th>\n",
       "      <th>recall</th>\n",
       "      <th>f1-score</th>\n",
       "      <th>support</th>\n",
       "    </tr>\n",
       "    <tr>\n",
       "      <th>row_name</th>\n",
       "      <th></th>\n",
       "      <th></th>\n",
       "      <th></th>\n",
       "      <th></th>\n",
       "    </tr>\n",
       "  </thead>\n",
       "  <tbody>\n",
       "    <tr>\n",
       "      <th>Trigger identification</th>\n",
       "      <td>93.1+/- 2.8</td>\n",
       "      <td>81.6+/- 3.8</td>\n",
       "      <td>87.4+/- 3.1</td>\n",
       "      <td>57</td>\n",
       "    </tr>\n",
       "    <tr>\n",
       "      <th>Trigger classification</th>\n",
       "      <td>88.1+/- 2.6</td>\n",
       "      <td>76.3+/- 3.5</td>\n",
       "      <td>82.1+/- 2.9</td>\n",
       "      <td>57</td>\n",
       "    </tr>\n",
       "    <tr>\n",
       "      <th>Argument identification</th>\n",
       "      <td>81.0+/- 2.2</td>\n",
       "      <td>61.5+/- 2.1</td>\n",
       "      <td>69.7+/- 2.0</td>\n",
       "      <td>244</td>\n",
       "    </tr>\n",
       "    <tr>\n",
       "      <th>Argument classification</th>\n",
       "      <td>77.3+/- 2.2</td>\n",
       "      <td>58.8+/- 2.2</td>\n",
       "      <td>66.6+/- 2.2</td>\n",
       "      <td>244</td>\n",
       "    </tr>\n",
       "  </tbody>\n",
       "</table>\n",
       "</div>"
      ],
      "text/plain": [
       "                           precision       recall     f1-score  support\n",
       "row_name                                                               \n",
       "Trigger identification   93.1+/- 2.8  81.6+/- 3.8  87.4+/- 3.1       57\n",
       "Trigger classification   88.1+/- 2.6  76.3+/- 3.5  82.1+/- 2.9       57\n",
       "Argument identification  81.0+/- 2.2  61.5+/- 2.1  69.7+/- 2.0      244\n",
       "Argument classification  77.3+/- 2.2  58.8+/- 2.2  66.6+/- 2.2      244"
      ]
     },
     "metadata": {},
     "output_type": "display_data"
    },
    {
     "name": "stdout",
     "output_type": "stream",
     "text": [
      "\n",
      "\n",
      "daystream100_snorkeled\n"
     ]
    },
    {
     "data": {
      "text/html": [
       "<div>\n",
       "<style scoped>\n",
       "    .dataframe tbody tr th:only-of-type {\n",
       "        vertical-align: middle;\n",
       "    }\n",
       "\n",
       "    .dataframe tbody tr th {\n",
       "        vertical-align: top;\n",
       "    }\n",
       "\n",
       "    .dataframe thead th {\n",
       "        text-align: right;\n",
       "    }\n",
       "</style>\n",
       "<table border=\"1\" class=\"dataframe\">\n",
       "  <thead>\n",
       "    <tr style=\"text-align: right;\">\n",
       "      <th></th>\n",
       "      <th>precision</th>\n",
       "      <th>recall</th>\n",
       "      <th>f1-score</th>\n",
       "      <th>support</th>\n",
       "    </tr>\n",
       "    <tr>\n",
       "      <th>row_name</th>\n",
       "      <th></th>\n",
       "      <th></th>\n",
       "      <th></th>\n",
       "      <th></th>\n",
       "    </tr>\n",
       "  </thead>\n",
       "  <tbody>\n",
       "    <tr>\n",
       "      <th>Trigger identification</th>\n",
       "      <td>96.2+/- 0.0</td>\n",
       "      <td>87.7+/- 0.0</td>\n",
       "      <td>91.7+/- 0.0</td>\n",
       "      <td>57</td>\n",
       "    </tr>\n",
       "    <tr>\n",
       "      <th>Trigger classification</th>\n",
       "      <td>90.4+/- 0.0</td>\n",
       "      <td>82.5+/- 0.0</td>\n",
       "      <td>86.2+/- 0.0</td>\n",
       "      <td>57</td>\n",
       "    </tr>\n",
       "    <tr>\n",
       "      <th>Argument identification</th>\n",
       "      <td>82.5+/- 0.0</td>\n",
       "      <td>63.9+/- 0.0</td>\n",
       "      <td>72.1+/- 0.0</td>\n",
       "      <td>244</td>\n",
       "    </tr>\n",
       "    <tr>\n",
       "      <th>Argument classification</th>\n",
       "      <td>79.9+/- 0.0</td>\n",
       "      <td>61.9+/- 0.0</td>\n",
       "      <td>69.7+/- 0.0</td>\n",
       "      <td>244</td>\n",
       "    </tr>\n",
       "  </tbody>\n",
       "</table>\n",
       "</div>"
      ],
      "text/plain": [
       "                           precision       recall     f1-score  support\n",
       "row_name                                                               \n",
       "Trigger identification   96.2+/- 0.0  87.7+/- 0.0  91.7+/- 0.0       57\n",
       "Trigger classification   90.4+/- 0.0  82.5+/- 0.0  86.2+/- 0.0       57\n",
       "Argument identification  82.5+/- 0.0  63.9+/- 0.0  72.1+/- 0.0      244\n",
       "Argument classification  79.9+/- 0.0  61.9+/- 0.0  69.7+/- 0.0      244"
      ]
     },
     "metadata": {},
     "output_type": "display_data"
    },
    {
     "name": "stdout",
     "output_type": "stream",
     "text": [
      "\n",
      "\n"
     ]
    }
   ],
   "source": [
    "for model_name in model_names:\n",
    "    print(model_name)\n",
    "    formatted_trigger = evaluate.format_classification_report(evaluate.get_median_std(trigger_metrics[model_name]), make_string=True)\n",
    "    formatted_argument = evaluate.format_classification_report(evaluate.get_median_std(argument_metrics[model_name]), make_string=True)\n",
    "    formatted_metrics = pd.concat([formatted_trigger, formatted_argument])\n",
    "    formatted_metrics.set_index('row_name', inplace=True)\n",
    "    display(formatted_metrics.loc[['Trigger identification', 'Trigger classification', 'Argument identification', 'Argument classification']])\n",
    "    print('\\n')"
   ]
  },
  {
   "cell_type": "code",
   "execution_count": null,
   "metadata": {},
   "outputs": [],
   "source": []
  }
 ],
 "metadata": {
  "kernelspec": {
   "display_name": "Python 3 (eventx)",
   "language": "python",
   "name": "eventx"
  },
  "language_info": {
   "codemirror_mode": {
    "name": "ipython",
    "version": 3
   },
   "file_extension": ".py",
   "mimetype": "text/x-python",
   "name": "python",
   "nbconvert_exporter": "python",
   "pygments_lexer": "ipython3",
   "version": "3.6.10"
  }
 },
 "nbformat": 4,
 "nbformat_minor": 4
}
